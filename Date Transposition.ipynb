{
 "cells": [
  {
   "cell_type": "code",
   "execution_count": 10,
   "metadata": {
    "collapsed": false
   },
   "outputs": [],
   "source": [
    "from datetime import datetime\n",
    "\n",
    "\n",
    "\n",
    "d1 = datetime.strptime('02/03/2017', '%m/%d/%Y')\n",
    "d2 = datetime.strptime('03/02/2017', '%m/%d/%Y')\n",
    "d3 = datetime.strptime('03/02/17', '%m/%d/%y')\n",
    "\n",
    "ds = [d1, d2, d3]"
   ]
  },
  {
   "cell_type": "code",
   "execution_count": 15,
   "metadata": {
    "collapsed": false
   },
   "outputs": [],
   "source": [
    "def match_dates(a, b):\n",
    "    score = 0\n",
    "    if a.month == b.month:\n",
    "        score += 1\n",
    "    if a.day == b.day:\n",
    "        score += 1    \n",
    "    if a.year == b.year:\n",
    "        score += 1\n",
    "\n",
    "    if a.day == b.month and a.month == b.day:\n",
    "        score += 0.5\n",
    "    if abs(a.year-b.year) <= 1:\n",
    "        score += 0.5\n",
    "        \n",
    "    return score"
   ]
  },
  {
   "cell_type": "code",
   "execution_count": 16,
   "metadata": {
    "collapsed": false
   },
   "outputs": [
    {
     "data": {
      "text/plain": [
       "2.0"
      ]
     },
     "execution_count": 16,
     "metadata": {},
     "output_type": "execute_result"
    }
   ],
   "source": [
    "match_dates(d1, d2)"
   ]
  },
  {
   "cell_type": "code",
   "execution_count": null,
   "metadata": {
    "collapsed": true
   },
   "outputs": [],
   "source": []
  }
 ],
 "metadata": {
  "kernelspec": {
   "display_name": "Python 2",
   "language": "python",
   "name": "python2"
  },
  "language_info": {
   "codemirror_mode": {
    "name": "ipython",
    "version": 2
   },
   "file_extension": ".py",
   "mimetype": "text/x-python",
   "name": "python",
   "nbconvert_exporter": "python",
   "pygments_lexer": "ipython2",
   "version": "2.7.11"
  }
 },
 "nbformat": 4,
 "nbformat_minor": 0
}
